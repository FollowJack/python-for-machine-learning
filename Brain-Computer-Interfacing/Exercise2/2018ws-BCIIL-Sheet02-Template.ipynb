{
 "cells": [
  {
   "cell_type": "markdown",
   "metadata": {},
   "source": [
    "### General rules:\n",
    " * For all figures that you generate, remember to add meaningful labels to the axes (including units), and provide a legend and colorbar, if applicable.\n",
    " * Do not hard code constants, like number of samples, number of channels, etc in your program. These values should always be determined from the given data. This way, you can easily use the code to analyse other data sets.\n",
    " * Do not use high-level functions from toolboxes like scikit-learn.\n",
    " * Before submitting, check your code by executing: Kernel -> Restart & run all.\n",
    " * Replace *Template* by your *FirstnameLastname* in the filename, or by *Lastname1Lastname2* if you work in pairs."
   ]
  },
  {
   "cell_type": "markdown",
   "metadata": {},
   "source": [
    "# BCI-IL WS 2018/2019 - Exercise Sheet #02"
   ]
  },
  {
   "cell_type": "markdown",
   "metadata": {},
   "source": [
    "#### Name(s):"
   ]
  },
  {
   "cell_type": "code",
   "execution_count": 2,
   "metadata": {},
   "outputs": [],
   "source": [
    "% matplotlib inline\n",
    "\n",
    "import numpy as np\n",
    "import scipy as sp\n",
    "from matplotlib import pyplot as plt\n",
    "\n",
    "import bci_minitoolbox as bci"
   ]
  },
  {
   "cell_type": "markdown",
   "metadata": {},
   "source": [
    "## Preparation: Loading Data"
   ]
  },
  {
   "cell_type": "code",
   "execution_count": 4,
   "metadata": {},
   "outputs": [],
   "source": [
    "fname = 'erp_hexVPsag.npz'\n",
    "cnt, fs, clab, mnt, mrk_pos, mrk_class, mrk_className = bci.load_data(fname)"
   ]
  },
  {
   "cell_type": "markdown",
   "metadata": {},
   "source": [
    "## Exercise 1: Scatter Plot of 2D Features  (8 points)"
   ]
  },
  {
   "cell_type": "markdown",
   "metadata": {},
   "source": [
    "Make a scatter plot of the two distributions - *targets* and *nontargets*, one dot for each trial. On the `x`-axis, plot the value of channel Cz at `t` = 380 ms, and at the `y`-axis the value of PO3 at `t` = 300 ms. *(You may refer to the results of sheet 01 for the reason of this choice.)*\n",
    "Draw for both distributions the two principal axes, with the lengths of the axes being the standard deviation of the data in that direction. \n",
    "Draw also the corresponding ellipses. **Hint:** You can get that with a transformation of the unit circle as on the slide *Illustration of Multiplication ...*."
   ]
  },
  {
   "cell_type": "code",
   "execution_count": null,
   "metadata": {},
   "outputs": [],
   "source": [
    "def ellipse_decomp(x,y):\n",
    "    # Input: x, y numpy arrays of a set of points (according to x and y axis)\n",
    "    # \n",
    "    # Return: ellipse: 2D matrix of the standard deviation ellipse, \n",
    "    #         x, y: lists of the eigenvectors with the mean, split into x and y positions.\n",
    "\n",
    "    t = np.linspace(0,np.pi*2,100)\n",
    "    \n",
    "    circ = np.array([np.cos(t), np.sin(t)])\n",
    "\n",
    "    matrix = np.array([x, y])\n",
    "    cov = np.cov(matrix)\n",
    "    eigval, eigvec = np.linalg.eig(cov)\n",
    "\n",
    "    D = np.diag(np.sqrt(eigval))   \n",
    "    covroot = np.dot(eigvec, np.dot(D, eigvec))\n",
    "    \n",
    "    mean = np.mean(matrix,axis=1)\n",
    "    elli = np.dot(covroot, circ)\n",
    "    elli[0] += mean[0]\n",
    "    elli[1] += mean[1]\n",
    "    \n",
    "    vec1 = np.dot(covroot, eigvec[0])\n",
    "    vec2 = np.dot(covroot, eigvec[1])\n",
    "    \n",
    "    x, y = np.split([vec2+mean, mean, vec1+mean], [-1], axis=1)\n",
    "    return elli, x, y\n",
    "\n",
    "ival= [-100, 1000]\n",
    "ref_ival= [-100, 0]\n",
    "chans = ['Cz', 'PO3']\n",
    "\n",
    "epo, epo_t = bci.makeepochs(cnt, fs, mrk_pos, ival)\n",
    "epo = bci.baseline(epo, epo_t, ref_ival)\n",
    "\n",
    "timeCz = np.where(epo_t == 380)\n",
    "timePO3 = np.where(epo_t == 300)\n",
    "\n",
    "iCz = clab.index(chans[0])\n",
    "iPO3 = clab.index(chans[1])\n",
    "\n",
    "Cz_values = epo[timeCz, iCz, mrk_class == 1]\n",
    "PO3_values = epo[timePO3, iPO3, mrk_class == 1]\n",
    "Cz_targets = epo[timeCz, iCz, mrk_class == 0]\n",
    "PO3_targets = epo[timePO3, iPO3, mrk_class == 0]\n",
    "\n",
    "#### MAKING THE ELLIPSES\n",
    "ellipseT, x1, y1 = ellipse_decomp(Cz_targets[0], PO3_targets[0])\n",
    "ellipseN, x2, y2 = ellipse_decomp(Cz_values[0], PO3_values[0])\n",
    "\n",
    "plt.style.use('dark_background')\n",
    "plt.figure(figsize = [6.4*2, 4.8*2])\n",
    "plt.grid()\n",
    "plt.title('Response at Cz (300 ms) and PO3 (380 ms)')\n",
    "plt.scatter(Cz_values, PO3_values, c = 'm', marker = 'x', label='Nontargets')\n",
    "plt.scatter(Cz_targets, PO3_targets, c = 'r', marker = 'o', label='Targets')\n",
    "plt.plot(ellipseT[0], ellipseT[1], 'w')\n",
    "plt.plot(ellipseN[0], ellipseN[1], 'w')\n",
    "\n",
    "plt.plot(x1, y1, 'yo-', label ='PC, targets')\n",
    "plt.plot(x2, y2, 'co-', label = 'PC, nontargets')\n",
    "\n",
    "plt.ylabel('PO3, potential')\n",
    "plt.xlabel('Cz, potential')\n",
    "plt.legend()\n",
    "plt.show()"
   ]
  },
  {
   "cell_type": "markdown",
   "metadata": {},
   "source": [
    "## Exercise 2: Covariances and Eigenvalues  (7 points)"
   ]
  },
  {
   "cell_type": "markdown",
   "metadata": {
    "collapsed": true
   },
   "source": [
    "Calculate the channelwise covariance matrices (channel `x` channel) of the data for time point 380 ms for both classes (`np.cov`) and visualize them (`pl.imshow`). \n",
    "Perform an Eigenvalue decomposition (`np.linalg.eigh`) of the covariance matrices and plot (again class-wise) the eigenvalue spectrum. Then determine the four principle components (Eigenvectors) for each class that correspond to the largest Eigenvalues and display them as scalp maps (function `scalpmap` provided in the `bci_minitoolbox`)."
   ]
  },
  {
   "cell_type": "code",
   "execution_count": 26,
   "metadata": {
    "scrolled": false
   },
   "outputs": [
    {
     "name": "stdout",
     "output_type": "stream",
     "text": [
      "[[0.000e+00 0.000e+00 0.000e+00 ... 0.000e+00 0.000e+00 0.000e+00]\n",
      " [0.000e+00 1.000e+00 2.000e+00 ... 5.200e+01 5.300e+01 5.400e+01]\n",
      " [0.000e+00 2.000e+00 4.000e+00 ... 1.040e+02 1.060e+02 1.080e+02]\n",
      " ...\n",
      " [0.000e+00 5.200e+01 1.040e+02 ... 2.704e+03 2.756e+03 2.808e+03]\n",
      " [0.000e+00 5.300e+01 1.060e+02 ... 2.756e+03 2.809e+03 2.862e+03]\n",
      " [0.000e+00 5.400e+01 1.080e+02 ... 2.808e+03 2.862e+03 2.916e+03]]\n",
      "[[0.00000000e+00 0.00000000e+00 0.00000000e+00 ... 0.00000000e+00\n",
      "  0.00000000e+00 0.00000000e+00]\n",
      " [0.00000000e+00 2.56666667e+02 5.13333333e+02 ... 1.33466667e+04\n",
      "  1.36033333e+04 1.38600000e+04]\n",
      " [0.00000000e+00 5.13333333e+02 1.02666667e+03 ... 2.66933333e+04\n",
      "  2.72066667e+04 2.77200000e+04]\n",
      " ...\n",
      " [0.00000000e+00 1.33466667e+04 2.66933333e+04 ... 6.94026667e+05\n",
      "  7.07373333e+05 7.20720000e+05]\n",
      " [0.00000000e+00 1.36033333e+04 2.72066667e+04 ... 7.07373333e+05\n",
      "  7.20976667e+05 7.34580000e+05]\n",
      " [0.00000000e+00 1.38600000e+04 2.77200000e+04 ... 7.20720000e+05\n",
      "  7.34580000e+05 7.48440000e+05]]\n"
     ]
    },
    {
     "data": {
      "image/png": "[encoded data removed]",
      "text/plain": [
       "<Figure size 432x288 with 2 Axes>"
      ]
     },
     "metadata": {
      "needs_background": "light"
     },
     "output_type": "display_data"
    }
   ],
   "source": [
    "# calculate channelwise covariance matrices \n",
    "data_time_point = 380\n",
    "cov_matrix = np.zeros((len(clab),len(clab)))\n",
    "for channel_x in range(len(clab)):\n",
    "    for channel_y in range(len(clab)):\n",
    "        cov_matrix[channel_x][channel_y] = channel_x * channel_y\n",
    "\n",
    "print(cov_matrix)\n",
    "cov_matrix = np.cov(cov_matrix)\n",
    "print(cov_matrix)\n",
    "#    start, stop = (np.where(epo_t == interval[i])[0][0] for i in range(2))\n",
    "    \n",
    "#    rMatrix = np.zeros((len(clab),stop+1-start))\n",
    "    \n",
    "#    for channel in range(len(clab)):\n",
    "        \n",
    "#        for i in range(start, stop+1):\n",
    " #           x = epo[i,channel,:]\n",
    " #           r = rsq(x, y)\n",
    "            \n",
    " #           rMatrix[channel, i - start] = r\n",
    "    \n",
    "plt.figure()\n",
    "img = plt.imshow(cov_matrix)\n",
    "plt.colorbar(label=\"R-squared biserial correlation coefficient\")\n",
    "plt.xlabel(\"ChannelX\")\n",
    "plt.ylabel(\"ChannelY\")\n",
    "img.set_cmap('jet')\n",
    "\n",
    "    \n",
    "#signed_r_square(epo, mrk_class)\n",
    "# for channel in channels\n",
    "\n",
    "## channel x channel \n",
    "## 380ms as data point\n",
    "## for both classes with np.cov\n",
    "\n",
    "## visualize channel x channel pl.imshow\n",
    "# pl.imshow()\n",
    "\n",
    "# perform an eigenvalue decomposition (np.linalg.eigh) of covariance matrices \n",
    "# plot again class wise the eigenvalue spectrum\n",
    "\n",
    "# Determine the four principle components (Eigenvectors) for each class that correspond to the largest eigenvalues\n",
    "# display them as scal maps scalpmap"
   ]
  },
  {
   "cell_type": "code",
   "execution_count": 17,
   "metadata": {},
   "outputs": [
    {
     "name": "stdout",
     "output_type": "stream",
     "text": [
      "[-100.  -90.  -80.  -70.  -60.  -50.  -40.  -30.  -20.  -10.    0.   10.\n",
      "   20.   30.   40.   50.   60.   70.   80.   90.  100.  110.  120.  130.\n",
      "  140.  150.  160.  170.  180.  190.  200.  210.  220.  230.  240.  250.\n",
      "  260.  270.  280.  290.  300.  310.  320.  330.  340.  350.  360.  370.\n",
      "  380.  390.  400.  410.  420.  430.  440.  450.  460.  470.  480.  490.\n",
      "  500.  510.  520.  530.  540.  550.  560.  570.  580.  590.  600.]\n"
     ]
    }
   ],
   "source": [
    "epo, epo_t = bci.makeepochs(cnt, fs, mrk_pos, [-100, 600])\n",
    "clab\n",
    "print(epo_t)"
   ]
  },
  {
   "cell_type": "code",
   "execution_count": null,
   "metadata": {},
   "outputs": [],
   "source": [
    "def ellipse_decomp(x,y):\n",
    "    # Input: x, y numpy arrays of a set of points (according to x and y axis)\n",
    "    # \n",
    "    # Return: ellipse: 2D matrix of the standard deviation ellipse, \n",
    "    #         x, y: lists of the eigenvectors with the mean, split into x and y positions.\n",
    "\n",
    "    t = np.linspace(0,np.pi*2,100)\n",
    "    \n",
    "    circ = np.array([np.cos(t), np.sin(t)])\n",
    "\n",
    "    matrix = np.array([x, y])\n",
    "    cov = np.cov(matrix)\n",
    "    eigval, eigvec = np.linalg.eig(cov)\n",
    "\n",
    "    D = np.diag(np.sqrt(eigval))   \n",
    "    covroot = np.dot(eigvec, np.dot(D, eigvec))\n",
    "    \n",
    "    mean = np.mean(matrix,axis=1)\n",
    "    elli = np.dot(covroot, circ)\n",
    "    elli[0] += mean[0]\n",
    "    elli[1] += mean[1]\n",
    "    \n",
    "    vec1 = np.dot(covroot, eigvec[0])\n",
    "    vec2 = np.dot(covroot, eigvec[1])\n",
    "    \n",
    "    x, y = np.split([vec2+mean, mean, vec1+mean], [-1], axis=1)\n",
    "    return elli, x, y\n",
    "\n",
    "ival= [-100, 1000]\n",
    "ref_ival= [-100, 0]\n",
    "chans = ['Cz', 'PO3']\n",
    "\n",
    "epo, epo_t = bci.makeepochs(cnt, fs, mrk_pos, ival)\n",
    "epo = bci.baseline(epo, epo_t, ref_ival)\n",
    "\n",
    "timeCz = np.where(epo_t == 380)\n",
    "timePO3 = np.where(epo_t == 300)\n",
    "\n",
    "iCz = clab.index(chans[0])\n",
    "iPO3 = clab.index(chans[1])\n",
    "\n",
    "Cz_values = epo[timeCz, iCz, mrk_class == 1]\n",
    "PO3_values = epo[timePO3, iPO3, mrk_class == 1]\n",
    "Cz_targets = epo[timeCz, iCz, mrk_class == 0]\n",
    "PO3_targets = epo[timePO3, iPO3, mrk_class == 0]\n",
    "\n",
    "#### MAKING THE ELLIPSES\n",
    "ellipseT, x1, y1 = ellipse_decomp(Cz_targets[0], PO3_targets[0])\n",
    "ellipseN, x2, y2 = ellipse_decomp(Cz_values[0], PO3_values[0])\n",
    "\n",
    "plt.style.use('dark_background')\n",
    "plt.figure(figsize = [6.4*2, 4.8*2])\n",
    "plt.grid()\n",
    "plt.title('Response at Cz (300 ms) and PO3 (380 ms)')\n",
    "plt.scatter(Cz_values, PO3_values, c = 'm', marker = 'x', label='Nontargets')\n",
    "plt.scatter(Cz_targets, PO3_targets, c = 'r', marker = 'o', label='Targets')\n",
    "plt.plot(ellipseT[0], ellipseT[1], 'w')\n",
    "plt.plot(ellipseN[0], ellipseN[1], 'w')\n",
    "\n",
    "plt.plot(x1, y1, 'yo-', label ='PC, targets')\n",
    "plt.plot(x2, y2, 'co-', label = 'PC, nontargets')\n",
    "\n",
    "plt.ylabel('PO3, potential')\n",
    "plt.xlabel('Cz, potential')\n",
    "plt.legend()\n",
    "plt.show()"
   ]
  }
 ],
 "metadata": {
  "anaconda-cloud": {},
  "kernelspec": {
   "display_name": "Python 3",
   "language": "python",
   "name": "python3"
  },
  "language_info": {
   "codemirror_mode": {
    "name": "ipython",
    "version": 3
   },
   "file_extension": ".py",
   "mimetype": "text/x-python",
   "name": "python",
   "nbconvert_exporter": "python",
   "pygments_lexer": "ipython3",
   "version": "3.7.0"
  }
 },
 "nbformat": 4,
 "nbformat_minor": 1
}
