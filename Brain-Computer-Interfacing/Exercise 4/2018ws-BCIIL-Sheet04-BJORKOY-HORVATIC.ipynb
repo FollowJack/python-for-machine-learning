{
 "cells": [
  {
   "cell_type": "markdown",
   "metadata": {},
   "source": [
    "### General rules:\n",
    " * For all figures that you generate, remember to add meaningful labels to the axes, and make a legend, if applicable.\n",
    " * Do not hard code constants, like number of samples, number of channels, etc in your program. These values should always be determined from the given data. This way, you can easily use the code to analyse other data sets.\n",
    " * Do not use high-level functions from toolboxes like scikit-learn.\n",
    " * Replace *Template* by your *FirstnameLastname* in the filename, or by *Lastname1Lastname2* if you work in pairs."
   ]
  },
  {
   "cell_type": "markdown",
   "metadata": {},
   "source": [
    "# BCI-IL WS 2018/2019 - Exercise Sheet #04"
   ]
  },
  {
   "cell_type": "markdown",
   "metadata": {},
   "source": [
    "#### Name: Håvard Bjørkøy"
   ]
  },
  {
   "cell_type": "code",
   "execution_count": 1,
   "metadata": {},
   "outputs": [],
   "source": [
    "# % matplotlib inline\n",
    "\n",
    "import numpy as np\n",
    "import scipy as sp\n",
    "from matplotlib import pyplot as plt\n",
    "\n",
    "import bci_minitoolbox as bci\n",
    "import bci_classifiers as cfy\n"
   ]
  },
  {
   "cell_type": "markdown",
   "metadata": {},
   "source": [
    "## Exercise 1: Implementation of Shrinkage for Covariance Estimation  (7 points)\n",
    "Implement a function `cov_shrink` that estimates the covariance matrix of data using shrinkage with the analytic method of determining the shrinkage coefficient as presented in the lecture. Input and output of that function should be as in the function `numpy.cov`.\n",
    "\n",
    "If you cannot succeed with this task, you may import the function `cov_shrink` from `bci_helper_sheet4.pyc` (available at the moodle page) for the subsequent exercises."
   ]
  },
  {
   "cell_type": "code",
   "execution_count": 2,
   "metadata": {},
   "outputs": [],
   "source": [
    "def cov_shrink(X):\n",
    "    '''\n",
    "    Estimate covariance of given data using shrinkage estimator.\n",
    "    \n",
    "    Synopsis:\n",
    "        C= cov_shrink(X)\n",
    "    Argument:\n",
    "        X: data matrix (features x samples)\n",
    "    Output:\n",
    "        C: estimated covariance matrix\n",
    "    '''\n",
    "    cov = np.cov(X)\n",
    "    \n",
    "    d = X.shape[0] # Features\n",
    "    K = X.shape[1] # Trials\n",
    "    \n",
    "    mean = np.mean(X, axis = 1)\n",
    "    nu = np.trace(cov)/d\n",
    "    \n",
    "    S = cov - nu*np.identity(d)\n",
    "    S_squaresum = np.sum(np.square(S))\n",
    "    Z = np.zeros((K, d, d)) # We have K dxd matrices \n",
    "    \n",
    "    for k in range(K):\n",
    "        vec = np.array(([X[:,k]-mean])).T\n",
    "        Z[k] = np.dot(vec, vec.T)\n",
    "    \n",
    "    gamma = 0\n",
    "    for i in range(d):\n",
    "        for j in range(d):\n",
    "            gamma += np.var(Z[:,i,j])\n",
    "            \n",
    "    gamma *= K/((K-1)**2*S_squaresum)\n",
    "    \n",
    "    #print(\"GAMMA*: \",gamma)\n",
    "    C = (1-gamma)*cov + gamma*nu*np.identity(d)\n",
    "    return C\n"
   ]
  },
  {
   "cell_type": "markdown",
   "metadata": {},
   "source": [
    "\n",
    "## Exercise 2: Implementation of LDA with Shrinkage  (3 points)\n",
    "Implement a function `train_LDAshrink` that calculates the LDA classifier in which the estimation of the covariance matrices is enhanced by shrinkage. Input and output should be the same as for `train_LDA` from sheet \\#03. As for LDA, use the pseudo inverse (`numpy.linalg.pinv`) instead of the usual matrix inversion. \n",
    "\n",
    "If you cannot succeed with this task, you may import the function `train_LDAshrink` from `bci_helper_sheet04_pythonPV.pyc` (available at the moodle page) with PV being your python version (27,35,36) for the subsequent exercises."
   ]
  },
  {
   "cell_type": "code",
   "execution_count": 3,
   "metadata": {},
   "outputs": [],
   "source": [
    "def train_LDAshrink(X, y):\n",
    "    '''\n",
    "    Synopsis:\n",
    "        w, b= train_LDAshrink(X, y)\n",
    "    Arguments:\n",
    "        X: data matrix (features X samples)\n",
    "        y: labels with values 0 and 1 (1 x samples)\n",
    "    Output:\n",
    "        w: LDA weight vector\n",
    "        b: bias term\n",
    "    '''\n",
    "    \n",
    "    mu1 = np.mean(X[:, y == 0], axis=1)\n",
    "    mu2 = np.mean(X[:, y == 1], axis=1)\n",
    "     \n",
    "    # Need to shift the matrix so that both classes have same mean (mean = 0)\n",
    "    Xpool = np.concatenate((X[:, y==0]-mu1[:,np.newaxis], X[:, y==1]-mu2[:,np.newaxis]), axis=1)\n",
    "    C = cov_shrink(Xpool)\n",
    "   \n",
    "    Cinv = np.linalg.pinv(C)\n",
    "    w = Cinv.dot(mu2-mu1)\n",
    "\n",
    "    b = w.T.dot((mu1 + mu2) / 2)\n",
    "    return w, b\n"
   ]
  },
  {
   "cell_type": "markdown",
   "metadata": {},
   "source": [
    "## Preparation: Load data"
   ]
  },
  {
   "cell_type": "code",
   "execution_count": 4,
   "metadata": {},
   "outputs": [],
   "source": [
    "fname = 'erp_hexVPsag.npz'\n",
    "cnt, fs, clab, mnt, mrk_pos, mrk_class, mrk_className = bci.load_data(fname)"
   ]
  },
  {
   "cell_type": "markdown",
   "metadata": {},
   "source": [
    "## Exercise 3: Classification of Spatio-Temporal Features  (5 points)\n",
    "First, use the time-averaged potential in each of the intervals [ms]: 160-200, 200-220, 230-260, 260-290, 300-320, 330-370, 380-430, and 480-520 as feature vector (dimension 55 `x` 1) for each trial. For each interval calculate the 3-fold cross-validation error using LDA with and without shrinkage.\n",
    "\n",
    "In a second step, concatenate the eight feature vectors, that were calcualted for the eight specified intervals into one feature vector (dimension 440 `x` 1) for each trial. Again, determine the 3-fold cross-validation error using LDA with and without shrinkage."
   ]
  },
  {
   "cell_type": "code",
   "execution_count": 6,
   "metadata": {},
   "outputs": [
    {
     "name": "stdout",
     "output_type": "stream",
     "text": [
      " 33.5 +/- 3.9  (training: 25.9 +/- 1.8)  [using train_LDA]\n",
      " 37.2 +/- 0.3  (training: 30.5 +/- 1.2)  [using train_LDA]\n",
      " 32.4 +/- 2.9  (training: 24.0 +/- 1.0)  [using train_LDA]\n",
      " 32.6 +/- 1.1  (training: 23.5 +/- 1.2)  [using train_LDA]\n",
      " 34.2 +/- 3.0  (training: 26.0 +/- 1.3)  [using train_LDA]\n",
      " 37.1 +/- 1.3  (training: 26.4 +/- 0.9)  [using train_LDA]\n",
      " 37.3 +/- 2.2  (training: 28.7 +/- 0.7)  [using train_LDA]\n",
      " 43.9 +/- 2.4  (training: 34.1 +/- 1.5)  [using train_LDA]\n",
      "--- Error of all spatio-temporal features ---\n",
      "LDA w/ shrinkage: \t 50.87413208843551\n",
      "LDA w/o shrinkage: \t 52.39957351036853\n"
     ]
    },
    {
     "data": {
      "image/png": "[encoded data removed]",
      "text/plain": [
       "<Figure size 432x288 with 1 Axes>"
      ]
     },
     "metadata": {
      "needs_background": "light"
     },
     "output_type": "display_data"
    }
   ],
   "source": [
    "ival = [0, 1000]\n",
    "epo, epo_t = bci.makeepochs(cnt, fs, mrk_pos, ival)\n",
    "ref_ival= [-100, 0]\n",
    "epo = bci.baseline(epo, epo_t, ref_ival)\n",
    "# Should we do this here? ... Guess it doesnt hurt to \n",
    "\n",
    "ival = [[160, 200], [200, 220], [230, 260], [260, 290], [300, 320], [330, 370], [380, 430], [480, 520]]\n",
    "\n",
    "nIvals = len(ival)\n",
    "K = epo.shape[2]     # Total trials\n",
    "nChan = epo.shape[1] # Number of channels\n",
    "X = np.zeros((nIvals*nChan, K))\n",
    "\n",
    "shrinkageErrors = np.zeros(nIvals)\n",
    "ldaErrors = np.zeros(nIvals)\n",
    "for k in range(nIvals):\n",
    "    tidx = (ival[k][0] <= epo_t) & (epo_t <= ival[k][1])\n",
    "    featurevec = np.mean(epo[tidx, :, :], axis = 0)\n",
    "    \n",
    "    shrinkageErrors[k], _ = cfy.crossvalidation(train_LDAshrink, featurevec, mrk_class, folds = 3)\n",
    "    ldaErrors[k], _ = cfy.crossvalidation(cfy.train_LDA, featurevec, mrk_class, folds = 3, verbose=True)\n",
    "    X[nChan*k:(k+1)*nChan, :] = featurevec\n",
    "    \n",
    "ldaTe, ldaTr = cfy.crossvalidation(cfy.train_LDA, X.T, mrk_class, folds = 3)\n",
    "shrinkTe, shrinkTr = cfy.crossvalidation(train_LDAshrink, X.T, mrk_class, folds = 3)\n",
    "\n",
    "plt.figure()\n",
    "plt.plot(np.arange(nIvals), shrinkageErrors, label = \"Errors w/ shrinkage\")\n",
    "plt.plot(np.arange(nIvals), ldaErrors, label = \"Errors, no shrinkage\")\n",
    "plt.xlabel(\"Interval\")\n",
    "plt.ylabel(\"Trainingerror\")\n",
    "plt.legend()\n",
    "plt.grid()\n",
    "\n",
    "print(\"--- Error of all spatio-temporal features ---\")\n",
    "print(\"LDA w/ shrinkage: \\t\", shrinkTe)\n",
    "print(\"LDA w/o shrinkage: \\t\", ldaTe)\n",
    "\n",
    "# Shrinkage appears very useful for large amount of features! \n",
    "# For smaller systems the results do not differ that much\n",
    "\n",
    "plt.show()"
   ]
  },
  {
   "cell_type": "code",
   "execution_count": null,
   "metadata": {},
   "outputs": [],
   "source": []
  }
 ],
 "metadata": {
  "anaconda-cloud": {},
  "kernelspec": {
   "display_name": "Python 3",
   "language": "python",
   "name": "python3"
  },
  "language_info": {
   "codemirror_mode": {
    "name": "ipython",
    "version": 3
   },
   "file_extension": ".py",
   "mimetype": "text/x-python",
   "name": "python",
   "nbconvert_exporter": "python",
   "pygments_lexer": "ipython3",
   "version": "3.7.0"
  }
 },
 "nbformat": 4,
 "nbformat_minor": 1
}
