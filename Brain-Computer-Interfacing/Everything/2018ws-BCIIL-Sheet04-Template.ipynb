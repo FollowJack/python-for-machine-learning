{
 "cells": [
  {
   "cell_type": "markdown",
   "metadata": {},
   "source": [
    "### General rules:\n",
    " * For all figures that you generate, remember to add meaningful labels to the axes, and make a legend, if applicable.\n",
    " * Do not hard code constants, like number of samples, number of channels, etc in your program. These values should always be determined from the given data. This way, you can easily use the code to analyse other data sets.\n",
    " * Do not use high-level functions from toolboxes like scikit-learn.\n",
    " * Replace *Template* by your *FirstnameLastname* in the filename, or by *Lastname1Lastname2* if you work in pairs."
   ]
  },
  {
   "cell_type": "markdown",
   "metadata": {},
   "source": [
    "# BCI-IL WS 2018/2019 - Exercise Sheet #04"
   ]
  },
  {
   "cell_type": "markdown",
   "metadata": {},
   "source": [
    "#### Name:"
   ]
  },
  {
   "cell_type": "code",
   "execution_count": null,
   "metadata": {},
   "outputs": [],
   "source": [
    "% matplotlib inline\n",
    "\n",
    "import numpy as np\n",
    "import scipy as sp\n",
    "from matplotlib import pyplot as plt\n",
    "\n",
    "import bci_minitoolbox as bci\n",
    "import bci_classifiers as cfy"
   ]
  },
  {
   "cell_type": "markdown",
   "metadata": {},
   "source": [
    "## Exercise 1: Implementation of Shrinkage for Covariance Estimation  (7 points)\n",
    "Implement a function `cov_shrink` that estimates the covariance matrix of data using shrinkage with the analytic method of determining the shrinkage coefficient as presented in the lecture. Input and output of that function should be as in the function `numpy.cov`.\n",
    "\n",
    "If you cannot succeed with this task, you may import the function `cov_shrink` from `bci_helper_sheet4.pyc` (available at the moodle page) for the subsequent exercises."
   ]
  },
  {
   "cell_type": "code",
   "execution_count": null,
   "metadata": {},
   "outputs": [],
   "source": [
    "def cov_shrink(X):\n",
    "    '''\n",
    "    Estimate covariance of given data using shrinkage estimator.\n",
    "    \n",
    "    Synopsis:\n",
    "        C= cov_shrink(X)\n",
    "    Argument:\n",
    "        X: data matrix (features x samples)\n",
    "    Output:\n",
    "        C: estimated covariance matrix\n",
    "    '''\n",
    "    \n",
    "# do normal covariance first\n",
    "# see properties of shrunk covariance matrix\n",
    "# do again and again and use different values for gamma\n",
    "# see optimal selection of shrinkage parameter"
   ]
  },
  {
   "cell_type": "markdown",
   "metadata": {},
   "source": [
    "## Exercise 2: Implementation of LDA with Shrinkage  (3 points)\n",
    "Implement a function `train_LDAshrink` that calculates the LDA classifier in which the estimation of the covariance matrices is enhanced by shrinkage. Input and output should be the same as for `train_LDA` from sheet \\#03. As for LDA, use the pseudo inverse (`numpy.linalg.pinv`) instead of the usual matrix inversion. \n",
    "\n",
    "If you cannot succeed with this task, you may import the function `train_LDAshrink` from `bci_helper_sheet04_pythonPV.pyc` (available at the moodle page) with PV being your python version (27,35,36) for the subsequent exercises."
   ]
  },
  {
   "cell_type": "code",
   "execution_count": null,
   "metadata": {},
   "outputs": [],
   "source": [
    "def train_LDAshrink(X, y):\n",
    "    '''\n",
    "    Synopsis:\n",
    "        w, b= train_LDAshrink(X, y)\n",
    "    Arguments:\n",
    "        X: data matrix (features X samples)\n",
    "        y: labels with values 0 and 1 (1 x samples)\n",
    "    Output:\n",
    "        w: LDA weight vector\n",
    "        b: bias term\n",
    "    '''\n",
    "\n",
    "    # exchange covariance matrix in shrinked one \n",
    "    # same as LDA"
   ]
  },
  {
   "cell_type": "markdown",
   "metadata": {},
   "source": [
    "## Preparation: Load data"
   ]
  },
  {
   "cell_type": "code",
   "execution_count": null,
   "metadata": {
    "collapsed": true
   },
   "outputs": [],
   "source": [
    "fname = 'erp_hexVPsag.npz'\n",
    "cnt, fs, clab, mnt, mrk_pos, mrk_class, mrk_className = bci.load_data(fname)"
   ]
  },
  {
   "cell_type": "markdown",
   "metadata": {},
   "source": [
    "## Exercise 3: Classification of Spatio-Temporal Features  (5 points)\n",
    "First, use the time-averaged potential in each of the intervals [ms]: 160-200, 200-220, 230-260, 260-290, 300-320, 330-370, 380-430, and 480-520 as feature vector (dimension 55 `x` 1) for each trial. For each interval calculate the 3-fold cross-validation error using LDA with and without shrinkage.\n",
    "\n",
    "In a second step, concatenate the eight feature vectors, that were calcualted for the eight specified intervals into one feature vector (dimension 440 `x` 1) for each trial. Again, determine the 3-fold cross-validation error using LDA with and without shrinkage."
   ]
  },
  {
   "cell_type": "code",
   "execution_count": null,
   "metadata": {},
   "outputs": [],
   "source": [
    "ival = [[160, 200], [200, 220], [230, 260], [260, 290], [300, 320], [330, 370], [380, 430], [480, 520]]"
   ]
  },
  {
   "cell_type": "code",
   "execution_count": null,
   "metadata": {},
   "outputs": [],
   "source": [
    "# Last slide from lecture"
   ]
  }
 ],
 "metadata": {
  "anaconda-cloud": {},
  "kernelspec": {
   "display_name": "Python 3",
   "language": "python",
   "name": "python3"
  },
  "language_info": {
   "codemirror_mode": {
    "name": "ipython",
    "version": 3
   },
   "file_extension": ".py",
   "mimetype": "text/x-python",
   "name": "python",
   "nbconvert_exporter": "python",
   "pygments_lexer": "ipython3",
   "version": "3.7.0"
  }
 },
 "nbformat": 4,
 "nbformat_minor": 1
}
