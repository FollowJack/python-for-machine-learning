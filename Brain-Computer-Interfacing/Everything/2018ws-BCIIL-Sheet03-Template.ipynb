{
 "cells": [
  {
   "cell_type": "markdown",
   "metadata": {},
   "source": [
    "### General rules:\n",
    " * For all figures that you generate, remember to add meaningful labels to the axes (including units), and provide a legend and colorbar, if applicable.\n",
    " * Do not hard code constants, like number of samples, number of channels, etc in your program. These values should always be determined from the given data. This way, you can easily use the code to analyse other data sets.\n",
    " * Do not use high-level functions from toolboxes like scikit-learn.\n",
    " * Before submitting, check your code by executing: Kernel -> Restart & run all.\n",
    " * Replace *Template* by your *FirstnameLastname* in the filename, or by *Lastname1Lastname2* if you work in pairs."
   ]
  },
  {
   "cell_type": "markdown",
   "metadata": {},
   "source": [
    "# BCI-IL WS 2018/2019 - Exercise Sheet #03"
   ]
  },
  {
   "cell_type": "markdown",
   "metadata": {},
   "source": [
    "#### Name: "
   ]
  },
  {
   "cell_type": "code",
   "execution_count": 22,
   "metadata": {},
   "outputs": [],
   "source": [
    "% matplotlib inline\n",
    "import numpy as np\n",
    "import scipy as sp\n",
    "from matplotlib import pyplot as plt\n",
    "\n",
    "import bci_minitoolbox as bci"
   ]
  },
  {
   "cell_type": "markdown",
   "metadata": {},
   "source": [
    "## Exercise 1: Nearest Centroid Classifier (NCC)  (2 point)\n",
    "Implement the calculation of the nearest centroid classifier (NCC) as a Python function `train_NCC`.  The function should take two arguments, the first being the data matrix $\\bf{X}$ where each column is a data point ($\\bf{x_k}$), and the second being class labels of the data points. Two output arguments should return the weight vector **`w`** and bias `b`."
   ]
  },
  {
   "cell_type": "code",
   "execution_count": 20,
   "metadata": {},
   "outputs": [
    {
     "name": "stdout",
     "output_type": "stream",
     "text": [
      "[0.75 0.  ]\n",
      "[0.25 0.25]\n"
     ]
    }
   ],
   "source": [
    "def train_NCC(X, y):\n",
    "    '''\n",
    "    Synopsis:\n",
    "        w, b= train_NCC(X, y)\n",
    "    Arguments:\n",
    "        X: data matrix (features X samples)\n",
    "        y: labels with values 0 and 1 (1 x samples)\n",
    "    Output:\n",
    "        w: NCC weight vector\n",
    "        b: bias term\n",
    "    '''\n",
    "    \n",
    "    #mean_target = np.mean X == 0\n",
    "    #mean_non_target = np.mean X == 1\n",
    "    #w = mean_non_target - mean_target\n",
    "    #b = w.T*((mean_non_target + mean_target)/2)\n",
    "    "
   ]
  },
  {
   "cell_type": "markdown",
   "metadata": {},
   "source": [
    "## Exercise 2: Linear Discriminant Analysis (LDA)  (4 points)\n",
    "Implement the calculation of the LDA classifier as a Python function `train_LDA`.  The function should take two arguments, the first being the data matrix $\\bf{X}$ where each column is a data point ($\\bf{x_k}$), and the second being class labels of the data points. Two output arguments should return the weight vector **`w`** and bias `b`."
   ]
  },
  {
   "cell_type": "code",
   "execution_count": null,
   "metadata": {},
   "outputs": [],
   "source": [
    "def train_LDA(X, y):\n",
    "    '''\n",
    "    Synopsis:\n",
    "        w, b= train_LDA(X, y)\n",
    "    Arguments:\n",
    "        X: data matrix (features X samples)\n",
    "        y: labels with values 0 and 1 (1 x samples)\n",
    "    Output:\n",
    "        w: LDA weight vector\n",
    "        b: bias term\n",
    "    '''\n",
    "    \n",
    "    #mean_target = np.mean X == 0\n",
    "    #mean_non_target = np.mean X == 1\n",
    "    #w = mean_non_target - mean_target\n",
    "    #b = w.T*((mean_non_target + mean_target)/2)\n"
   ]
  },
  {
   "cell_type": "markdown",
   "metadata": {},
   "source": [
    "## Exercises 3: Cross-validation with weighted loss (2 points)\n",
    "Complete the implementation of `crossvalidation` by writing a loss function `loss_weighted_error` which calculates the weighted loss as explained in the lecture."
   ]
  },
  {
   "cell_type": "code",
   "execution_count": null,
   "metadata": {},
   "outputs": [],
   "source": [
    "def crossvalidation(classifier_fcn, X, y, nFolds=10, verbose=False):\n",
    "    '''\n",
    "    Synopsis:\n",
    "        loss_te, loss_tr= crossvalidation(classifier_fcn, X, y, nFolds=10, verbose=False)\n",
    "    Arguments:\n",
    "        classifier_fcn: handle to function that trains classifier as output w, b\n",
    "        X:              data matrix (features X samples)\n",
    "        y:              labels with values 0 and 1 (1 x samples)\n",
    "        nFolds:         number of folds\n",
    "        verbose:        print validation results or not\n",
    "    Output:\n",
    "        loss_te: value of loss function averaged across test data\n",
    "        loss_tr: value of loss function averaged across training data\n",
    "    '''\n",
    "    nDim, nSamples = X.shape\n",
    "    inter = np.round(np.linspace(0, nSamples, num=nFolds + 1)).astype(int)\n",
    "    perm = np.random.permutation(nSamples)\n",
    "    errTr = np.zeros([nFolds, 1])\n",
    "    errTe = np.zeros([nFolds, 1])\n",
    "\n",
    "    for ff in range(nFolds):\n",
    "        idxTe = perm[inter[ff]:inter[ff + 1] + 1]\n",
    "        idxTr = np.setdiff1d(range(nSamples), idxTe)\n",
    "        w, b = classifier_fcn(X[:, idxTr], y[idxTr])\n",
    "        out = w.T.dot(X) - b\n",
    "        errTe[ff] = loss_weighted_error(out[idxTe], y[idxTe])\n",
    "        errTr[ff] = loss_weighted_error(out[idxTr], y[idxTr])\n",
    "\n",
    "    if verbose:\n",
    "        print('{:5.1f} +/-{:4.1f}  (training:{:5.1f} +/-{:4.1f})  [using {}]'.format(errTe.mean(), errTe.std(),\n",
    "                                                                                     errTr.mean(), errTr.std(), \n",
    "                                                                                     classifier_fcn.__name__))\n",
    "    return np.mean(errTe), np.mean(errTr)"
   ]
  },
  {
   "cell_type": "code",
   "execution_count": null,
   "metadata": {},
   "outputs": [],
   "source": [
    "def loss_weighted_error(out, y):\n",
    "    '''\n",
    "    Synopsis:\n",
    "        loss= loss_weighted_error( out, y )\n",
    "    Arguments:\n",
    "        out:  output of the classifier\n",
    "        y:    true class labels\n",
    "    Output:\n",
    "        loss: weighted error\n",
    "    '''\n",
    "    # err_weighted = 1/2 * (err_class1 + err_class2)\n"
   ]
  },
  {
   "cell_type": "markdown",
   "metadata": {},
   "source": [
    "## Preparation: Load Data"
   ]
  },
  {
   "cell_type": "code",
   "execution_count": null,
   "metadata": {},
   "outputs": [],
   "source": [
    "fname = 'erp_hexVPsag.npz'\n",
    "cnt, fs, clab, mnt, mrk_pos, mrk_class, mrk_className = bci.load_data(fname)"
   ]
  },
  {
   "cell_type": "markdown",
   "metadata": {},
   "source": [
    "## Exercise 4: Classification of Temporal Features  (3 points)\n",
    "Extract as temporal features from single channels the epochs of the time interval 0 to 1000 ms. Determine the error of classification with LDA and with NCC on those features using 10-fold cross-validation for each single channel. Display the resulting (test) error rates for all channel as scalp topographies (one for LDA and one for NCC)."
   ]
  },
  {
   "cell_type": "code",
   "execution_count": null,
   "metadata": {},
   "outputs": [],
   "source": [
    "#sample ERP signals at multiple time points/intervals\n",
    "#→ temporal feature"
   ]
  },
  {
   "cell_type": "markdown",
   "metadata": {},
   "source": [
    "## Exercise 5: Classification of Spatial Features  (4 points)\n",
    "Perform classification (*target* vs. *nontarget*) on spatial features (average across time within a 50 ms interval) in a time window that is shifted from 0 to 1000 ms in steps of 10 ms, again with both, LDA and NCC. Visualize the time courses of the classification error. Again, use 10-fold cross-validation. Here, use a baseline correction w.r.t. the prestimulus interval -100 to 0 ms."
   ]
  },
  {
   "cell_type": "code",
   "execution_count": null,
   "metadata": {
    "scrolled": true
   },
   "outputs": [],
   "source": [
    "# join signals from multiple channels\n",
    "# → spatial feature"
   ]
  }
 ],
 "metadata": {
  "anaconda-cloud": {},
  "kernelspec": {
   "display_name": "Python 3",
   "language": "python",
   "name": "python3"
  },
  "language_info": {
   "codemirror_mode": {
    "name": "ipython",
    "version": 3
   },
   "file_extension": ".py",
   "mimetype": "text/x-python",
   "name": "python",
   "nbconvert_exporter": "python",
   "pygments_lexer": "ipython3",
   "version": "3.7.0"
  }
 },
 "nbformat": 4,
 "nbformat_minor": 1
}
